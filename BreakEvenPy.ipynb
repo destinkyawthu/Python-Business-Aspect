{
 "cells": [
  {
   "cell_type": "code",
   "execution_count": 4,
   "metadata": {},
   "outputs": [
    {
     "name": "stdout",
     "output_type": "stream",
     "text": [
      "Selling Price per Unit: 1800\n",
      "Variable Cost per Unit: 1700\n",
      "Fixed Cost: 2500\n"
     ]
    },
    {
     "data": {
      "text/plain": [
       "25.0"
      ]
     },
     "execution_count": 4,
     "metadata": {},
     "output_type": "execute_result"
    }
   ],
   "source": [
    "sellingPrice = float(input(\"Selling Price per Unit: \"))\n",
    "variableCost = float(input(\"Variable Cost per Unit: \"))\n",
    "FixedCost = float(input(\"Fixed Cost: \"))\n",
    "\n",
    "break_even= FixedCost/(sellingPrice-variableCost)\n",
    "\n",
    "break_even"
   ]
  },
  {
   "cell_type": "code",
   "execution_count": null,
   "metadata": {},
   "outputs": [],
   "source": []
  }
 ],
 "metadata": {
  "kernelspec": {
   "display_name": "Python 3",
   "language": "python",
   "name": "python3"
  },
  "language_info": {
   "codemirror_mode": {
    "name": "ipython",
    "version": 3
   },
   "file_extension": ".py",
   "mimetype": "text/x-python",
   "name": "python",
   "nbconvert_exporter": "python",
   "pygments_lexer": "ipython3",
   "version": "3.7.6"
  }
 },
 "nbformat": 4,
 "nbformat_minor": 4
}
